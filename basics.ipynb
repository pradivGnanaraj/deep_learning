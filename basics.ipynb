{
 "cells": [
  {
   "cell_type": "code",
   "execution_count": 1,
   "id": "766b7010",
   "metadata": {},
   "outputs": [],
   "source": [
    "import numpy as np\n",
    "import torch"
   ]
  },
  {
   "cell_type": "code",
   "execution_count": 6,
   "id": "db15bde0",
   "metadata": {},
   "outputs": [],
   "source": [
    "# Creating a vector, matrix and tensor in python.\n",
    "nvector = np.array([[1,2,3,4]])\n",
    "nmatrix = np.array([ [1,2,3,4],\n",
    "                   [5,6,7,8]\n",
    "                   ])\n",
    "ntensor = torch.tensor([ [1,2,3,4]])"
   ]
  },
  {
   "cell_type": "markdown",
   "id": "9ec05935",
   "metadata": {},
   "source": [
    "## Softmax"
   ]
  },
  {
   "cell_type": "code",
   "execution_count": 10,
   "id": "bfafadc2",
   "metadata": {},
   "outputs": [],
   "source": [
    "# importing all the required libraries.\n",
    "import numpy as np\n",
    "import torch\n",
    "import torch.nn as nn\n",
    "import matplotlib.pyplot as plt"
   ]
  },
  {
   "cell_type": "code",
   "execution_count": 11,
   "id": "4be70207",
   "metadata": {},
   "outputs": [
    {
     "name": "stdout",
     "output_type": "stream",
     "text": [
      "[0.09003057 0.24472847 0.66524096]\n",
      "1.0\n"
     ]
    }
   ],
   "source": [
    "z = [1,2,3]\n",
    "\n",
    "num = np.exp(z)\n",
    "den = np.sum(np.exp(z))\n",
    "sigma = num / den # Softmax\n",
    "\n",
    "print(sigma)\n",
    "print(np.sum(sigma))"
   ]
  },
  {
   "cell_type": "code",
   "execution_count": 15,
   "id": "d78938c5",
   "metadata": {},
   "outputs": [
    {
     "name": "stdout",
     "output_type": "stream",
     "text": [
      "[ 4 -1  1 10  4  9  2  3 -1 -4 -5 10  4  4 11 -5  2  3 -5 -3 12  7  5 13\n",
      "  0]\n"
     ]
    },
    {
     "data": {
      "image/png": "[encoded data removed]",
      "text/plain": [
       "<Figure size 640x480 with 1 Axes>"
      ]
     },
     "metadata": {},
     "output_type": "display_data"
    }
   ],
   "source": [
    "# Using some random numbers\n",
    "z = np.random.randint(-5, high=15, size=25)\n",
    "print(z)\n",
    "\n",
    "# compute softmax\n",
    "num = np.exp(z)\n",
    "den = np.sum(np.exp(z))\n",
    "sigma = num / den # Softmax\n",
    "\n",
    "# Compare\n",
    "\n",
    "plt.plot(z, sigma, 'ko')\n",
    "plt.xlabel('Original number (z)')\n",
    "plt.ylabel(\"Softmax'd $\\sigma$\")\n",
    "\n",
    "# plt.yscale('log') #linear transformation in log space\n",
    "plt.title('$\\sum\\sigma$ = %g' %np.sum(sigma))\n",
    "plt.show()\n"
   ]
  },
  {
   "cell_type": "markdown",
   "id": "0d5039e5",
   "metadata": {},
   "source": [
    "## Softmax using PyTorch"
   ]
  },
  {
   "cell_type": "code",
   "execution_count": 16,
   "id": "e2000a76",
   "metadata": {},
   "outputs": [
    {
     "name": "stdout",
     "output_type": "stream",
     "text": [
      "tensor([7.5966e-05, 5.1185e-07, 3.7821e-06, 3.0647e-02, 7.5966e-05, 1.1274e-02,\n",
      "        1.0281e-05, 2.7946e-05, 5.1185e-07, 2.5484e-08, 9.3749e-09, 3.0647e-02,\n",
      "        7.5966e-05, 7.5966e-05, 8.3306e-02, 9.3749e-09, 1.0281e-05, 2.7946e-05,\n",
      "        9.3749e-09, 6.9272e-08, 2.2645e-01, 1.5258e-03, 2.0650e-04, 6.1556e-01,\n",
      "        1.3914e-06])\n"
     ]
    }
   ],
   "source": [
    "softfun = nn.Softmax(dim=0)\n",
    "\n",
    "sigmaT = softfun(torch.Tensor(z))\n",
    "\n",
    "print(sigmaT)"
   ]
  },
  {
   "cell_type": "code",
   "execution_count": null,
   "id": "21bafe03",
   "metadata": {},
   "outputs": [],
   "source": []
  }
 ],
 "metadata": {
  "kernelspec": {
   "display_name": "Python 3 (ipykernel)",
   "language": "python",
   "name": "python3"
  },
  "language_info": {
   "codemirror_mode": {
    "name": "ipython",
    "version": 3
   },
   "file_extension": ".py",
   "mimetype": "text/x-python",
   "name": "python",
   "nbconvert_exporter": "python",
   "pygments_lexer": "ipython3",
   "version": "3.8.16"
  }
 },
 "nbformat": 4,
 "nbformat_minor": 5
}
